{
 "cells": [
  {
   "cell_type": "code",
   "execution_count": 1,
   "metadata": {
    "colab": {
     "base_uri": "https://localhost:8080/",
     "height": 139
    },
    "colab_type": "code",
    "id": "Ji-85bNNCtiG",
    "outputId": "4e39d6f5-2f0c-4811-9b34-9affe0c69b57"
   },
   "outputs": [],
   "source": [
    "#!wget \"https://gist.githubusercontent.com/jahirmedinacs/876002f8d9a6ebe38c2142f5e5333ab3/raw/7bb4259e28e64de8de99b30f155169c09e9e1755/sofo_raw_data.csv\""
   ]
  },
  {
   "cell_type": "code",
   "execution_count": 2,
   "metadata": {
    "colab": {},
    "colab_type": "code",
    "id": "YBa39H0JGEzt"
   },
   "outputs": [],
   "source": [
    "from pprint import pprint as pprint\n",
    "from copy import copy as copy"
   ]
  },
  {
   "cell_type": "code",
   "execution_count": 3,
   "metadata": {
    "colab": {},
    "colab_type": "code",
    "id": "E1R1EnrxD6Lj"
   },
   "outputs": [],
   "source": [
    "import pandas as pd\n",
    "import numpy as np\n",
    "from matplotlib import pyplot as plt"
   ]
  },
  {
   "cell_type": "code",
   "execution_count": 4,
   "metadata": {
    "colab": {
     "base_uri": "https://localhost:8080/",
     "height": 374
    },
    "colab_type": "code",
    "id": "YHy43MGyECFE",
    "outputId": "2aa71b1e-4f0f-4452-ea3e-35d6f18695d2"
   },
   "outputs": [],
   "source": [
    "raw_data = pd.read_csv(\"./sofo_raw_data.csv\")"
   ]
  },
  {
   "cell_type": "code",
   "execution_count": 5,
   "metadata": {
    "colab": {
     "base_uri": "https://localhost:8080/",
     "height": 139
    },
    "colab_type": "code",
    "id": "kGdYtWqCEMZl",
    "outputId": "8882d552-274c-4f4a-9664-57a07ce7a7a5"
   },
   "outputs": [
    {
     "name": "stdout",
     "output_type": "stream",
     "text": [
      "Index(['Status', 'Sample Name', 'Sample Type', 'Size Standard',\n",
      "       'Analysis Method', 'SQI', 'Offscale', 'Quality', 'UD1', 'UD2', 'UD3',\n",
      "       'Dye/Sample Peak', 'Sample File Name', 'Size', 'Height',\n",
      "       'Area in Point', 'Area in BP', 'Data Point', 'Begin Point', 'Begin BP',\n",
      "       'End Point', 'End BP', 'Width in Point', 'Width in BP', 'User Comments',\n",
      "       'User Edit'],\n",
      "      dtype='object')\n"
     ]
    }
   ],
   "source": [
    "pprint(raw_data.columns)"
   ]
  },
  {
   "cell_type": "markdown",
   "metadata": {
    "colab_type": "text",
    "id": "QTVS6fYtJh26"
   },
   "source": [
    "> Renaming columns , to quick acces as objects"
   ]
  },
  {
   "cell_type": "code",
   "execution_count": 6,
   "metadata": {
    "colab": {
     "base_uri": "https://localhost:8080/",
     "height": 139
    },
    "colab_type": "code",
    "id": "plu4_YAjEP2l",
    "outputId": "958dc7f1-4f07-4c12-a815-86ca1d197452"
   },
   "outputs": [
    {
     "data": {
      "text/plain": [
       "Index(['Status', 'Sample_Name', 'Sample_Type', 'Size_Standard',\n",
       "       'Analysis_Method', 'SQI', 'Offscale', 'Quality', 'UD1', 'UD2', 'UD3',\n",
       "       'Dye_Sample_Peak', 'Sample_File_Name', 'Size', 'Height',\n",
       "       'Area_in_Point', 'Area_in_BP', 'Data_Point', 'Begin_Point', 'Begin_BP',\n",
       "       'End_Point', 'End_BP', 'Width_in_Point', 'Width_in_BP', 'User_Comments',\n",
       "       'User_Edit'],\n",
       "      dtype='object')"
      ]
     },
     "execution_count": 6,
     "metadata": {},
     "output_type": "execute_result"
    }
   ],
   "source": [
    "new_cols = []\n",
    "for ii in raw_data:\n",
    "  new_cols += [ii.replace(\" \", \"_\").replace(\"/\",\"_\")]\n",
    "  \n",
    "raw_data.rename(columns=dict(zip(raw_data.columns, new_cols)), inplace=True)\n",
    "raw_data.columns"
   ]
  },
  {
   "cell_type": "code",
   "execution_count": 7,
   "metadata": {
    "colab": {
     "base_uri": "https://localhost:8080/",
     "height": 243
    },
    "colab_type": "code",
    "id": "CzuLEAzGHJY_",
    "outputId": "78db8e90-e031-4d1d-cf3d-19f8708e34f4"
   },
   "outputs": [
    {
     "data": {
      "text/plain": [
       "84"
      ]
     },
     "metadata": {},
     "output_type": "display_data"
    },
    {
     "name": "stdout",
     "output_type": "stream",
     "text": [
      "Archivo OC6-C49,OTU6-CLON35.fsa :>>> 986\n",
      "Archivo OC1-C1,OTU8-CLON1.fsa :>>> 854\n",
      "Archivo OC2-C3,OTU5-CLON2.fsa :>>> 854\n",
      "Archivo OC3-C4,OTU6-CLON3.fsa :>>> 700\n",
      "Archivo OC4-C19,OTU3-CLON12.fsa :>>> 692\n",
      "Archivo OC5-C20,OTU9-CLON13.fsa :>>> 614\n",
      "Archivo OC11-C69,OTU7-CLON53.fsa :>>> 530\n",
      "Archivo OC12-C80, OTU9-CLON62.fsa :>>> 475\n",
      "Archivo OC7-C58,OTU4-CLON44.fsa :>>> 414\n",
      "Archivo OC9-C63,OTU4-CLON63.fsa :>>> 376\n",
      "Archivo OC10-C65,OTU2-CLON50.fsa :>>> 357\n",
      "Archivo OC8-C60,OTU1-CLON46.fsa :>>> 318\n"
     ]
    }
   ],
   "source": [
    "display(raw_data.Sample_File_Name.unique().size)\n",
    "\n",
    "for ii in raw_data.Sample_File_Name.value_counts().index:\n",
    "  if \"OTU\" in ii:\n",
    "    print(\"Archivo {:s} :>>> {:d}\".format(ii, raw_data.Sample_File_Name.value_counts()[ii]))\n",
    "  "
   ]
  },
  {
   "cell_type": "code",
   "execution_count": 8,
   "metadata": {
    "colab": {
     "base_uri": "https://localhost:8080/",
     "height": 1000
    },
    "colab_type": "code",
    "id": "v3TcSy72JxSQ",
    "outputId": "a6125399-745c-4945-a3e8-b2d0e128ba06"
   },
   "outputs": [
    {
     "name": "stdout",
     "output_type": "stream",
     "text": [
      "['DC-A1.A__MC1A.fsa']\n",
      "['DC-A1.B__MC1B.fsa']\n",
      "['DC-A2.A__MC29A.fsa']\n",
      "['DC-A2.B__MC29B.fsa']\n",
      "['DC-A4.A__MC2A.fsa']\n",
      "['DC-A4.B__MC2B.fsa']\n",
      "['DC-A5.A__MC3A.fsa']\n",
      "['DC-A5.B__MC3B.fsa']\n",
      "['DC-B1.A__MC4A.fsa']\n",
      "['DC-B1.B__MC4B.fsa']\n",
      "['DC-B2.A__MC5A.fsa']\n",
      "['DC-B2.B__MC5B.fsa']\n",
      "['DC-B4.A__MC6A.fsa']\n",
      "['DC-B4.B__MC6B.fsa']\n",
      "['DC-B5.A__MC30A.fsa']\n",
      "['DC-B5.B__MC30B.fsa']\n",
      "['DC-C1.A__MC7A.fsa']\n",
      "['DC-C1.B__MC7B.fsa']\n",
      "['DC-C2.A__MC31A.fsa']\n",
      "['DC-C2.B__MC31B.fsa']\n",
      "['DC-C3.A__MC8A.fsa']\n",
      "['DC-C3.B__MC8B.fsa']\n",
      "['DC-C5.A__MC9A.fsa']\n",
      "['DC-C5.B__MC9B.fsa']\n",
      "['LM-A1.A__MC10A.fsa']\n",
      "['LM-A1.B__MC10B.fsa']\n",
      "['LM-A2.A__MC11A.fsa']\n",
      "['LM-A2.B__MC11B.fsa']\n",
      "['LM-A3.A__MC32A.fsa']\n",
      "['LM-A3.B__MC32B.fsa']\n",
      "['LM-A4.A__MC12A.fsa']\n",
      "['LM-A4.B__MC12B.fsa']\n",
      "['LM-B1.A__MC13A.fsa']\n",
      "['LM-B1.B__MC13B.fsa']\n",
      "['LM-B2.A__MC14A.fsa']\n",
      "['LM-B2.B__MC14B.fsa']\n",
      "['LM-B3.A__MC15A.fsa']\n",
      "['LM-B3.B__MC15B.fsa']\n",
      "['LM-B5.A__MC33A.fsa']\n",
      "['LM-B5.B__MC33B.fsa']\n",
      "['LM-C1.A__MC16A.fsa']\n",
      "['LM-C1.B__MC16B.fsa']\n",
      "['LM-C2.A__MC17A.fsa']\n",
      "['LM-C2.B__MC17B.fsa']\n",
      "['LM-C3.A__MC34A.fsa']\n",
      "['LM-C3.B__MC34B.fsa']\n",
      "['LM-C4.A__MC18A.fsa']\n",
      "['LM-C4.B__MC18B.fsa']\n",
      "['MS-A2.A__MC19A.fsa']\n",
      "['MS-A2.B__MC19B.fsa']\n",
      "['MS-A3.A__MC20A.fsa']\n",
      "['MS-A3.B__MC20B.fsa']\n",
      "['MS-A4.A__MC21A.fsa']\n",
      "['MS-A4.B__MC21B.fsa']\n",
      "['MS-A5.A__MC35A.fsa']\n",
      "['MS-A5.B__MC35B.fsa']\n",
      "['MS-B1.A__MC22A.fsa']\n",
      "['MS-B1.B__MC22B.fsa']\n",
      "['MS-B3.A__MC23A.fsa']\n",
      "['MS-B3.B__MC23B.fsa']\n",
      "['MS-B4.A__MC36A.fsa']\n",
      "['MS-B4.B__MC36B.fsa']\n",
      "['MS-B5.A__MC24A.fsa']\n",
      "['MS-B5.B__MC24B.fsa']\n",
      "['MS-C1.A__MC25A.fsa']\n",
      "['MS-C1.B__MC25B.fsa']\n",
      "['MS-C2.A__MC26A.fsa']\n",
      "['MS-C2.B__MC26B.fsa']\n",
      "['MS-C3.A__MC27A.fsa']\n",
      "['MS-C3.B__MC27B.fsa']\n",
      "['MS-C5.A__MC28A.fsa']\n",
      "['MS-C5.B__MC28B.fsa']\n",
      "['OC1-C1', 'OTU8-CLON1.fsa']\n",
      "['OC10-C65', 'OTU2-CLON50.fsa']\n",
      "['OC11-C69', 'OTU7-CLON53.fsa']\n",
      "['OC12-C80', ' OTU9-CLON62.fsa']\n",
      "['OC2-C3', 'OTU5-CLON2.fsa']\n",
      "['OC3-C4', 'OTU6-CLON3.fsa']\n",
      "['OC4-C19', 'OTU3-CLON12.fsa']\n",
      "['OC5-C20', 'OTU9-CLON13.fsa']\n",
      "['OC6-C49', 'OTU6-CLON35.fsa']\n",
      "['OC7-C58', 'OTU4-CLON44.fsa']\n",
      "['OC8-C60', 'OTU1-CLON46.fsa']\n",
      "['OC9-C63', 'OTU4-CLON63.fsa']\n"
     ]
    }
   ],
   "source": [
    "for ii in raw_data.Sample_File_Name.unique():\n",
    "  print(ii.split(\",\"))"
   ]
  },
  {
   "cell_type": "markdown",
   "metadata": {
    "colab_type": "text",
    "id": "gkdpQ6ZKOqRk"
   },
   "source": [
    "### NA and data imputation"
   ]
  },
  {
   "cell_type": "code",
   "execution_count": 9,
   "metadata": {
    "colab": {},
    "colab_type": "code",
    "id": "_shdEPp2Q778"
   },
   "outputs": [],
   "source": [
    "total_rows = raw_data.shape[0]"
   ]
  },
  {
   "cell_type": "code",
   "execution_count": 10,
   "metadata": {
    "colab": {
     "base_uri": "https://localhost:8080/",
     "height": 34
    },
    "colab_type": "code",
    "id": "ZxVi42mQMs-v",
    "outputId": "4a6b9b40-4173-4a11-857e-1ff8d289d47a"
   },
   "outputs": [
    {
     "name": "stdout",
     "output_type": "stream",
     "text": [
      "['UD1', 'UD2', 'UD3', 'User_Comments', 'User_Edit']\n"
     ]
    }
   ],
   "source": [
    "__temp = raw_data.isna().astype(np.int).sum()\n",
    "__empty_cols = []\n",
    "for ii in __temp.index:\n",
    "  if __temp[ii] == total_rows:\n",
    "    __empty_cols += [ii]\n",
    "    \n",
    "pprint(__empty_cols)"
   ]
  },
  {
   "cell_type": "code",
   "execution_count": 11,
   "metadata": {
    "colab": {
     "base_uri": "https://localhost:8080/",
     "height": 118
    },
    "colab_type": "code",
    "id": "W7iZQokMOzdJ",
    "outputId": "5b9048e5-9ccc-4eaa-94f0-7a97b8794fe6"
   },
   "outputs": [
    {
     "data": {
      "text/html": [
       "<div>\n",
       "<style scoped>\n",
       "    .dataframe tbody tr th:only-of-type {\n",
       "        vertical-align: middle;\n",
       "    }\n",
       "\n",
       "    .dataframe tbody tr th {\n",
       "        vertical-align: top;\n",
       "    }\n",
       "\n",
       "    .dataframe thead th {\n",
       "        text-align: right;\n",
       "    }\n",
       "</style>\n",
       "<table border=\"1\" class=\"dataframe\">\n",
       "  <thead>\n",
       "    <tr style=\"text-align: right;\">\n",
       "      <th></th>\n",
       "      <th>Status</th>\n",
       "      <th>Sample_Name</th>\n",
       "      <th>Sample_Type</th>\n",
       "      <th>Size_Standard</th>\n",
       "      <th>Analysis_Method</th>\n",
       "      <th>SQI</th>\n",
       "      <th>Offscale</th>\n",
       "      <th>Quality</th>\n",
       "      <th>Dye_Sample_Peak</th>\n",
       "      <th>Sample_File_Name</th>\n",
       "      <th>...</th>\n",
       "      <th>Height</th>\n",
       "      <th>Area_in_Point</th>\n",
       "      <th>Area_in_BP</th>\n",
       "      <th>Data_Point</th>\n",
       "      <th>Begin_Point</th>\n",
       "      <th>Begin_BP</th>\n",
       "      <th>End_Point</th>\n",
       "      <th>End_BP</th>\n",
       "      <th>Width_in_Point</th>\n",
       "      <th>Width_in_BP</th>\n",
       "    </tr>\n",
       "  </thead>\n",
       "  <tbody>\n",
       "    <tr>\n",
       "      <th>546</th>\n",
       "      <td>Analyzed</td>\n",
       "      <td>D-A1B</td>\n",
       "      <td>Sample</td>\n",
       "      <td>GS500LIZ_3730</td>\n",
       "      <td>Sizing Default - PP</td>\n",
       "      <td>False</td>\n",
       "      <td>Pass</td>\n",
       "      <td>Pass</td>\n",
       "      <td>R, 32</td>\n",
       "      <td>DC-A1.B__MC1B.fsa</td>\n",
       "      <td>...</td>\n",
       "      <td>1342</td>\n",
       "      <td>14974</td>\n",
       "      <td>1348</td>\n",
       "      <td>1343</td>\n",
       "      <td>1331</td>\n",
       "      <td>49.7253</td>\n",
       "      <td>1357</td>\n",
       "      <td>52.0665</td>\n",
       "      <td>12</td>\n",
       "      <td>1.1313</td>\n",
       "    </tr>\n",
       "  </tbody>\n",
       "</table>\n",
       "<p>1 rows × 21 columns</p>\n",
       "</div>"
      ],
      "text/plain": [
       "       Status Sample_Name Sample_Type  Size_Standard      Analysis_Method  \\\n",
       "546  Analyzed       D-A1B      Sample  GS500LIZ_3730  Sizing Default - PP   \n",
       "\n",
       "       SQI Offscale Quality Dye_Sample_Peak   Sample_File_Name  ...  Height  \\\n",
       "546  False     Pass    Pass           R, 32  DC-A1.B__MC1B.fsa  ...    1342   \n",
       "\n",
       "     Area_in_Point  Area_in_BP  Data_Point  Begin_Point  Begin_BP  End_Point  \\\n",
       "546          14974        1348        1343         1331   49.7253       1357   \n",
       "\n",
       "      End_BP  Width_in_Point  Width_in_BP  \n",
       "546  52.0665              12       1.1313  \n",
       "\n",
       "[1 rows x 21 columns]"
      ]
     },
     "execution_count": 11,
     "metadata": {},
     "output_type": "execute_result"
    }
   ],
   "source": [
    "raw_data.drop(columns=__empty_cols, inplace=True)\n",
    "raw_data.sample(1)"
   ]
  },
  {
   "cell_type": "code",
   "execution_count": 12,
   "metadata": {
    "colab": {
     "base_uri": "https://localhost:8080/",
     "height": 121
    },
    "colab_type": "code",
    "id": "c55NUolRSxL3",
    "outputId": "e9bcd88b-d084-4583-ac13-23c1815efd77"
   },
   "outputs": [
    {
     "name": "stdout",
     "output_type": "stream",
     "text": [
      "Column [\"Status\"] with ONE UNIQUE [\"Analyzed\"]\n",
      "Column [\"Sample_Type\"] with ONE UNIQUE [\"Sample\"]\n",
      "Column [\"Size_Standard\"] with ONE UNIQUE [\"GS500LIZ_3730\"]\n",
      "Column [\"Analysis_Method\"] with ONE UNIQUE [\"Sizing Default - PP\"]\n",
      "Column [\"SQI\"] with ONE UNIQUE [\"False\"]\n",
      "['Status', 'Sample_Type', 'Size_Standard', 'Analysis_Method', 'SQI']\n"
     ]
    }
   ],
   "source": [
    "__non_variance_cols = []\n",
    "for ii in raw_data.columns:\n",
    "  __temp = raw_data[ii].value_counts()\n",
    "#   print(__temp.shape[0])\n",
    "  if __temp.shape[0] == 1:\n",
    "    __non_variance_cols += [ii]\n",
    "    print(\"Column [\\\"{:s}\\\"] with ONE UNIQUE [\\\"{:s}\\\"]\".format(ii, str(__temp.index[0])))\n",
    "    \n",
    "pprint(__non_variance_cols)"
   ]
  },
  {
   "cell_type": "code",
   "execution_count": 13,
   "metadata": {
    "colab": {
     "base_uri": "https://localhost:8080/",
     "height": 118
    },
    "colab_type": "code",
    "id": "gB0w_C8ZS1MM",
    "outputId": "3d2087de-84bf-4bd3-e443-4f6234d0e8e7"
   },
   "outputs": [
    {
     "data": {
      "text/html": [
       "<div>\n",
       "<style scoped>\n",
       "    .dataframe tbody tr th:only-of-type {\n",
       "        vertical-align: middle;\n",
       "    }\n",
       "\n",
       "    .dataframe tbody tr th {\n",
       "        vertical-align: top;\n",
       "    }\n",
       "\n",
       "    .dataframe thead th {\n",
       "        text-align: right;\n",
       "    }\n",
       "</style>\n",
       "<table border=\"1\" class=\"dataframe\">\n",
       "  <thead>\n",
       "    <tr style=\"text-align: right;\">\n",
       "      <th></th>\n",
       "      <th>Sample_Name</th>\n",
       "      <th>Offscale</th>\n",
       "      <th>Quality</th>\n",
       "      <th>Dye_Sample_Peak</th>\n",
       "      <th>Sample_File_Name</th>\n",
       "      <th>Size</th>\n",
       "      <th>Height</th>\n",
       "      <th>Area_in_Point</th>\n",
       "      <th>Area_in_BP</th>\n",
       "      <th>Data_Point</th>\n",
       "      <th>Begin_Point</th>\n",
       "      <th>Begin_BP</th>\n",
       "      <th>End_Point</th>\n",
       "      <th>End_BP</th>\n",
       "      <th>Width_in_Point</th>\n",
       "      <th>Width_in_BP</th>\n",
       "    </tr>\n",
       "  </thead>\n",
       "  <tbody>\n",
       "    <tr>\n",
       "      <th>32921</th>\n",
       "      <td>OC12</td>\n",
       "      <td>Pass</td>\n",
       "      <td>Pass</td>\n",
       "      <td>Y, 20</td>\n",
       "      <td>OC12-C80, OTU9-CLON62.fsa</td>\n",
       "      <td>21.4286</td>\n",
       "      <td>69</td>\n",
       "      <td>584</td>\n",
       "      <td>53</td>\n",
       "      <td>1069</td>\n",
       "      <td>1065</td>\n",
       "      <td>21.0623</td>\n",
       "      <td>1080</td>\n",
       "      <td>22.4359</td>\n",
       "      <td>4</td>\n",
       "      <td>0.4491</td>\n",
       "    </tr>\n",
       "  </tbody>\n",
       "</table>\n",
       "</div>"
      ],
      "text/plain": [
       "      Sample_Name Offscale Quality Dye_Sample_Peak           Sample_File_Name  \\\n",
       "32921        OC12     Pass    Pass           Y, 20  OC12-C80, OTU9-CLON62.fsa   \n",
       "\n",
       "          Size  Height  Area_in_Point  Area_in_BP  Data_Point  Begin_Point  \\\n",
       "32921  21.4286      69            584          53        1069         1065   \n",
       "\n",
       "       Begin_BP  End_Point   End_BP  Width_in_Point  Width_in_BP  \n",
       "32921   21.0623       1080  22.4359               4       0.4491  "
      ]
     },
     "execution_count": 13,
     "metadata": {},
     "output_type": "execute_result"
    }
   ],
   "source": [
    "raw_data.drop(columns=__non_variance_cols, inplace=True)\n",
    "raw_data.sample(1)"
   ]
  },
  {
   "cell_type": "code",
   "execution_count": 14,
   "metadata": {
    "colab": {
     "base_uri": "https://localhost:8080/",
     "height": 69
    },
    "colab_type": "code",
    "id": "AgvjZ_KoWLHc",
    "outputId": "75082dd1-4496-4786-a628-0a1bce20a9f1"
   },
   "outputs": [
    {
     "data": {
      "text/plain": [
       "Pass     32082\n",
       "Check     6025\n",
       "Name: Offscale, dtype: int64"
      ]
     },
     "execution_count": 14,
     "metadata": {},
     "output_type": "execute_result"
    }
   ],
   "source": [
    "raw_data.Offscale.value_counts()"
   ]
  },
  {
   "cell_type": "markdown",
   "metadata": {
    "colab_type": "text",
    "id": "YM-fSgAccl5M"
   },
   "source": [
    "#### Getting Non Numeric Data\n",
    "\n",
    ">>> Alternative Processing in Data_Exploration_II.pyibn"
   ]
  },
  {
   "cell_type": "code",
   "execution_count": 15,
   "metadata": {
    "colab": {
     "base_uri": "https://localhost:8080/",
     "height": 34
    },
    "colab_type": "code",
    "id": "7Ju9mhldYi8v",
    "outputId": "4f0573fd-b866-4a91-fff0-36a632d0ea2b"
   },
   "outputs": [
    {
     "name": "stdout",
     "output_type": "stream",
     "text": [
      "['Sample_Name', 'Offscale', 'Quality', 'Dye_Sample_Peak', 'Sample_File_Name']\n"
     ]
    }
   ],
   "source": [
    "__non_num_data = []\n",
    "__temp = raw_data.dtypes\n",
    "for ii in __temp.index:\n",
    "  if __temp[ii] == 'object':\n",
    "    __non_num_data += [ii]\n",
    "    \n",
    "pprint(__non_num_data)"
   ]
  },
  {
   "cell_type": "code",
   "execution_count": 16,
   "metadata": {
    "colab": {
     "base_uri": "https://localhost:8080/",
     "height": 538
    },
    "colab_type": "code",
    "id": "fqzA7vPLWvde",
    "outputId": "44ed8a36-dea8-4a8d-8732-543ec6b63761"
   },
   "outputs": [
    {
     "name": "stdout",
     "output_type": "stream",
     "text": [
      "\n",
      "\n",
      "Sample_Name  | Filas : 84\n"
     ]
    },
    {
     "data": {
      "text/plain": [
       "L-C3A    517\n",
       "L-A4A    303\n",
       "Name: Sample_Name, dtype: int64"
      ]
     },
     "metadata": {},
     "output_type": "display_data"
    },
    {
     "name": "stdout",
     "output_type": "stream",
     "text": [
      "\n",
      "\n",
      "Offscale  | Filas : 2\n"
     ]
    },
    {
     "data": {
      "text/plain": [
       "Pass     32082\n",
       "Check     6025\n",
       "Name: Offscale, dtype: int64"
      ]
     },
     "metadata": {},
     "output_type": "display_data"
    },
    {
     "name": "stdout",
     "output_type": "stream",
     "text": [
      "\n",
      "\n",
      "Quality  | Filas : 2\n"
     ]
    },
    {
     "data": {
      "text/plain": [
       "Pass     36952\n",
       "Check     1155\n",
       "Name: Quality, dtype: int64"
      ]
     },
     "metadata": {},
     "output_type": "display_data"
    },
    {
     "name": "stdout",
     "output_type": "stream",
     "text": [
      "\n",
      "\n",
      "Dye_Sample_Peak  | Filas : 1040\n"
     ]
    },
    {
     "data": {
      "text/plain": [
       "B, 217     8\n",
       "B, 96     58\n",
       "Name: Dye_Sample_Peak, dtype: int64"
      ]
     },
     "metadata": {},
     "output_type": "display_data"
    },
    {
     "name": "stdout",
     "output_type": "stream",
     "text": [
      "\n",
      "\n",
      "Sample_File_Name  | Filas : 84\n"
     ]
    },
    {
     "data": {
      "text/plain": [
       "MS-C1.A__MC25A.fsa    541\n",
       "MS-C3.A__MC27A.fsa    646\n",
       "Name: Sample_File_Name, dtype: int64"
      ]
     },
     "metadata": {},
     "output_type": "display_data"
    }
   ],
   "source": [
    "for ii in __non_num_data:\n",
    "  print(\"\\n\\n{:s}  | Filas : {:d}\".format(ii, raw_data[ii].value_counts().shape[0]))\n",
    "  display(raw_data[ii].value_counts().sample(2))\n",
    "  "
   ]
  },
  {
   "cell_type": "code",
   "execution_count": 17,
   "metadata": {
    "colab": {
     "base_uri": "https://localhost:8080/",
     "height": 286
    },
    "colab_type": "code",
    "id": "SDuMlidlYAMT",
    "outputId": "c9a5c466-82ec-476a-a66d-a0e602bb1f16"
   },
   "outputs": [
    {
     "data": {
      "text/plain": [
       "<matplotlib.axes._subplots.AxesSubplot at 0x7fc9b31a1e48>"
      ]
     },
     "execution_count": 17,
     "metadata": {},
     "output_type": "execute_result"
    },
    {
     "data": {
      "image/png": "[encoded data removed]",
      "text/plain": [
       "<Figure size 432x288 with 1 Axes>"
      ]
     },
     "metadata": {
      "needs_background": "light"
     },
     "output_type": "display_data"
    }
   ],
   "source": [
    "raw_data.Sample_Name.value_counts().plot()"
   ]
  },
  {
   "cell_type": "code",
   "execution_count": 18,
   "metadata": {
    "colab": {
     "base_uri": "https://localhost:8080/",
     "height": 118
    },
    "colab_type": "code",
    "id": "RPL7SmbchcVZ",
    "outputId": "0a24f4e0-89fa-44b0-8da4-cbef8b94bf48"
   },
   "outputs": [
    {
     "data": {
      "text/html": [
       "<div>\n",
       "<style scoped>\n",
       "    .dataframe tbody tr th:only-of-type {\n",
       "        vertical-align: middle;\n",
       "    }\n",
       "\n",
       "    .dataframe tbody tr th {\n",
       "        vertical-align: top;\n",
       "    }\n",
       "\n",
       "    .dataframe thead th {\n",
       "        text-align: right;\n",
       "    }\n",
       "</style>\n",
       "<table border=\"1\" class=\"dataframe\">\n",
       "  <thead>\n",
       "    <tr style=\"text-align: right;\">\n",
       "      <th></th>\n",
       "      <th>Sample_Name</th>\n",
       "      <th>Offscale</th>\n",
       "      <th>Quality</th>\n",
       "      <th>Dye_Sample_Peak</th>\n",
       "      <th>Sample_File_Name</th>\n",
       "      <th>Size</th>\n",
       "      <th>Height</th>\n",
       "      <th>Area_in_Point</th>\n",
       "      <th>Area_in_BP</th>\n",
       "      <th>Data_Point</th>\n",
       "      <th>Begin_Point</th>\n",
       "      <th>Begin_BP</th>\n",
       "      <th>End_Point</th>\n",
       "      <th>End_BP</th>\n",
       "      <th>Width_in_Point</th>\n",
       "      <th>Width_in_BP</th>\n",
       "    </tr>\n",
       "  </thead>\n",
       "  <tbody>\n",
       "    <tr>\n",
       "      <th>36568</th>\n",
       "      <td>OC6</td>\n",
       "      <td>Pass</td>\n",
       "      <td>Pass</td>\n",
       "      <td>Y, 230</td>\n",
       "      <td>OC6-C49,OTU6-CLON35.fsa</td>\n",
       "      <td>600.5882</td>\n",
       "      <td>63</td>\n",
       "      <td>266</td>\n",
       "      <td>22</td>\n",
       "      <td>9095</td>\n",
       "      <td>9092</td>\n",
       "      <td>600.3361</td>\n",
       "      <td>9103</td>\n",
       "      <td>601.2605</td>\n",
       "      <td>3</td>\n",
       "      <td>0.283</td>\n",
       "    </tr>\n",
       "  </tbody>\n",
       "</table>\n",
       "</div>"
      ],
      "text/plain": [
       "      Sample_Name Offscale Quality Dye_Sample_Peak         Sample_File_Name  \\\n",
       "36568         OC6     Pass    Pass          Y, 230  OC6-C49,OTU6-CLON35.fsa   \n",
       "\n",
       "           Size  Height  Area_in_Point  Area_in_BP  Data_Point  Begin_Point  \\\n",
       "36568  600.5882      63            266          22        9095         9092   \n",
       "\n",
       "       Begin_BP  End_Point    End_BP  Width_in_Point  Width_in_BP  \n",
       "36568  600.3361       9103  601.2605               3        0.283  "
      ]
     },
     "execution_count": 18,
     "metadata": {},
     "output_type": "execute_result"
    }
   ],
   "source": [
    "raw_data[raw_data.Sample_Name == 'OC6'].sample()"
   ]
  },
  {
   "cell_type": "code",
   "execution_count": 19,
   "metadata": {},
   "outputs": [
    {
     "data": {
      "text/plain": [
       "(38107, 16)"
      ]
     },
     "execution_count": 19,
     "metadata": {},
     "output_type": "execute_result"
    }
   ],
   "source": [
    "raw_data.shape"
   ]
  },
  {
   "cell_type": "markdown",
   "metadata": {
    "colab": {
     "base_uri": "https://localhost:8080/",
     "height": 34
    },
    "colab_type": "code",
    "id": "KzW0HWrkfpL0",
    "outputId": "08ea0391-ee6e-4b30-c809-bad4f81734b0"
   },
   "source": [
    "#### Filter Data\n",
    "\n",
    "> Data Select by specialist"
   ]
  },
  {
   "cell_type": "code",
   "execution_count": 36,
   "metadata": {
    "colab": {},
    "colab_type": "code",
    "id": "cwkVAuGPgbl4"
   },
   "outputs": [
    {
     "data": {
      "text/html": [
       "<div>\n",
       "<style scoped>\n",
       "    .dataframe tbody tr th:only-of-type {\n",
       "        vertical-align: middle;\n",
       "    }\n",
       "\n",
       "    .dataframe tbody tr th {\n",
       "        vertical-align: top;\n",
       "    }\n",
       "\n",
       "    .dataframe thead th {\n",
       "        text-align: right;\n",
       "    }\n",
       "</style>\n",
       "<table border=\"1\" class=\"dataframe\">\n",
       "  <thead>\n",
       "    <tr style=\"text-align: right;\">\n",
       "      <th></th>\n",
       "      <th>0</th>\n",
       "    </tr>\n",
       "  </thead>\n",
       "  <tbody>\n",
       "    <tr>\n",
       "      <th>4</th>\n",
       "      <td>D-A4A</td>\n",
       "    </tr>\n",
       "    <tr>\n",
       "      <th>64</th>\n",
       "      <td>M-C1A</td>\n",
       "    </tr>\n",
       "    <tr>\n",
       "      <th>23</th>\n",
       "      <td>D-C5B</td>\n",
       "    </tr>\n",
       "    <tr>\n",
       "      <th>10</th>\n",
       "      <td>D-B2A</td>\n",
       "    </tr>\n",
       "    <tr>\n",
       "      <th>54</th>\n",
       "      <td>M-A5A</td>\n",
       "    </tr>\n",
       "  </tbody>\n",
       "</table>\n",
       "</div>"
      ],
      "text/plain": [
       "        0\n",
       "4   D-A4A\n",
       "64  M-C1A\n",
       "23  D-C5B\n",
       "10  D-B2A\n",
       "54  M-A5A"
      ]
     },
     "metadata": {},
     "output_type": "display_data"
    }
   ],
   "source": [
    "_filtered_sample_name = pd.read_csv(\"./Filter_sample_name_sofo.csv\")\n",
    "_filtered_sample_name = pd.DataFrame(_filtered_sample_name[_filtered_sample_name.columns[-1]])\n",
    "display(_filtered_sample_name.sample(5))"
   ]
  },
  {
   "cell_type": "code",
   "execution_count": 38,
   "metadata": {},
   "outputs": [],
   "source": [
    "raw_filterd_sample_name = [ii[0] for ii in _filtered_sample_name.values.tolist()]"
   ]
  },
  {
   "cell_type": "code",
   "execution_count": 42,
   "metadata": {
    "scrolled": false
   },
   "outputs": [],
   "source": [
    "_alt_temp = raw_data[raw_data.Sample_Name.isin(raw_filterd_sample_name)]\n",
    "_alt_temp.to_csv(\"./pre_pro1.csv\", columns=_alt_temp.columns)"
   ]
  },
  {
   "cell_type": "code",
   "execution_count": 23,
   "metadata": {},
   "outputs": [
    {
     "data": {
      "text/plain": [
       "True"
      ]
     },
     "execution_count": 23,
     "metadata": {},
     "output_type": "execute_result"
    }
   ],
   "source": [
    "_alt_temp.Sample_Name.unique().tolist() == raw_filterd_sample_name"
   ]
  },
  {
   "cell_type": "code",
   "execution_count": 24,
   "metadata": {},
   "outputs": [
    {
     "data": {
      "text/plain": [
       "<matplotlib.axes._subplots.AxesSubplot at 0x7fc9b10fd2e8>"
      ]
     },
     "metadata": {},
     "output_type": "display_data"
    },
    {
     "data": {
      "text/plain": [
       "count     72.000000\n",
       "mean     429.680556\n",
       "std       96.359337\n",
       "min      198.000000\n",
       "25%      361.500000\n",
       "50%      446.000000\n",
       "75%      495.250000\n",
       "max      646.000000\n",
       "Name: Sample_Name, dtype: float64"
      ]
     },
     "metadata": {},
     "output_type": "display_data"
    },
    {
     "data": {
      "image/png": "[encoded data removed]",
      "text/plain": [
       "<Figure size 432x288 with 1 Axes>"
      ]
     },
     "metadata": {
      "needs_background": "light"
     },
     "output_type": "display_data"
    }
   ],
   "source": [
    "display(_alt_temp.Sample_Name.value_counts().plot())\n",
    "display(_alt_temp.Sample_Name.value_counts().describe())"
   ]
  },
  {
   "cell_type": "code",
   "execution_count": 25,
   "metadata": {},
   "outputs": [],
   "source": [
    "amount_per_sample = _alt_temp.Sample_Name.value_counts()"
   ]
  },
  {
   "cell_type": "code",
   "execution_count": 26,
   "metadata": {},
   "outputs": [
    {
     "data": {
      "text/plain": [
       "[<matplotlib.lines.Line2D at 0x7fc9b322c278>]"
      ]
     },
     "execution_count": 26,
     "metadata": {},
     "output_type": "execute_result"
    },
    {
     "data": {
      "image/png": "[encoded data removed]",
      "text/plain": [
       "<Figure size 432x288 with 1 Axes>"
      ]
     },
     "metadata": {
      "needs_background": "light"
     },
     "output_type": "display_data"
    }
   ],
   "source": [
    "plt.plot((amount_per_sample - amount_per_sample.mean()).abs())"
   ]
  },
  {
   "cell_type": "code",
   "execution_count": 27,
   "metadata": {},
   "outputs": [],
   "source": [
    "from sklearn.linear_model import LinearRegression\n",
    "\n",
    "from sklearn.metrics import mean_squared_error, r2_score\n",
    "from sklearn.preprocessing import PolynomialFeatures"
   ]
  },
  {
   "cell_type": "code",
   "execution_count": 28,
   "metadata": {},
   "outputs": [],
   "source": [
    "y = (amount_per_sample - amount_per_sample.mean()).abs().values\n",
    "x = np.arange(y.shape[0], dtype=float)"
   ]
  },
  {
   "cell_type": "code",
   "execution_count": 29,
   "metadata": {},
   "outputs": [
    {
     "name": "stdout",
     "output_type": "stream",
     "text": [
      "10.348765879129948\n",
      "0.9668395260504343\n"
     ]
    },
    {
     "data": {
      "image/png": "[encoded data removed]",
      "text/plain": [
       "<Figure size 432x288 with 1 Axes>"
      ]
     },
     "metadata": {
      "needs_background": "light"
     },
     "output_type": "display_data"
    }
   ],
   "source": [
    "x = x[:, np.newaxis]\n",
    "y = y[:, np.newaxis]\n",
    "\n",
    "polynomial_features = PolynomialFeatures(degree=2)\n",
    "x_poly = polynomial_features.fit_transform(x)\n",
    "\n",
    "model = LinearRegression()\n",
    "model.fit(x_poly,y)\n",
    "y_poly_pred = model.predict(x_poly)\n",
    "\n",
    "rmse = np.sqrt(mean_squared_error(y, y_poly_pred))\n",
    "r2 = r2_score(y, y_poly_pred)\n",
    "print(rmse)\n",
    "print(r2)\n",
    "\n",
    "plt.scatter(x,y, s=10)\n",
    "\n",
    "#sort_axis = operator.item\n",
    "\n",
    "plt.plot(x, y_poly_pred, color='r')\n",
    "plt.show()"
   ]
  },
  {
   "cell_type": "code",
   "execution_count": 30,
   "metadata": {},
   "outputs": [
    {
     "data": {
      "text/plain": [
       "M-C3A    646\n",
       "L-C2A    627\n",
       "M-B4A    619\n",
       "D-A4A    582\n",
       "D-A2B    560\n",
       "D-B1B    548\n",
       "M-C1A    541\n",
       "D-A2A    539\n",
       "M-A4A    536\n",
       "M-A4B    533\n",
       "D-A5A    531\n",
       "M-B1B    522\n",
       "D-C1B    518\n",
       "L-C3A    517\n",
       "L-B3A    510\n",
       "M-A2A    509\n",
       "M-B1A    504\n",
       "M-C2A    499\n",
       "D-A1B    494\n",
       "D-C5A    487\n",
       "D-B2A    486\n",
       "L-C4B    480\n",
       "D-B1A    476\n",
       "D-C5B    474\n",
       "L-C4A    466\n",
       "D-A5B    465\n",
       "D-A4B    461\n",
       "M-B5B    461\n",
       "M-B4B    454\n",
       "M-A5A    454\n",
       "        ... \n",
       "L-B1A    411\n",
       "D-B4B    410\n",
       "L-B1B    409\n",
       "L-A1B    406\n",
       "L-C1B    400\n",
       "D-C3B    395\n",
       "M-B5A    391\n",
       "L-C1A    383\n",
       "M-C5A    372\n",
       "M-C1B    372\n",
       "D-C3A    367\n",
       "L-B2A    362\n",
       "M-A3B    360\n",
       "D-C2A    351\n",
       "L-A2B    349\n",
       "L-A3A    344\n",
       "M-C2B    343\n",
       "D-B5A    336\n",
       "D-B2B    332\n",
       "L-A3B    328\n",
       "L-A2A    316\n",
       "D-B5B    314\n",
       "L-A4B    305\n",
       "L-A4A    303\n",
       "M-C5B    274\n",
       "L-B5B    268\n",
       "D-A1A    256\n",
       "L-C3B    240\n",
       "D-C2B    224\n",
       "M-A5B    198\n",
       "Name: Sample_Name, Length: 72, dtype: int64"
      ]
     },
     "execution_count": 30,
     "metadata": {},
     "output_type": "execute_result"
    }
   ],
   "source": [
    "amount_per_sample"
   ]
  },
  {
   "cell_type": "code",
   "execution_count": 31,
   "metadata": {},
   "outputs": [
    {
     "data": {
      "text/plain": [
       "<matplotlib.axes._subplots.AxesSubplot at 0x7fc9d7f39c50>"
      ]
     },
     "execution_count": 31,
     "metadata": {},
     "output_type": "execute_result"
    },
    {
     "data": {
      "image/png": "[encoded data removed]",
      "text/plain": [
       "<Figure size 432x288 with 1 Axes>"
      ]
     },
     "metadata": {
      "needs_background": "light"
     },
     "output_type": "display_data"
    }
   ],
   "source": [
    "pd.DataFrame(_alt_temp.Sample_Name.value_counts()).boxplot()"
   ]
  },
  {
   "cell_type": "code",
   "execution_count": 32,
   "metadata": {},
   "outputs": [],
   "source": [
    "amount_per_sample = (amount_per_sample - amount_per_sample.mean()) / amount_per_sample.std()"
   ]
  },
  {
   "cell_type": "code",
   "execution_count": 33,
   "metadata": {},
   "outputs": [
    {
     "data": {
      "text/plain": [
       "[<matplotlib.lines.Line2D at 0x7fc9d7f39400>]"
      ]
     },
     "execution_count": 33,
     "metadata": {},
     "output_type": "execute_result"
    },
    {
     "data": {
      "image/png": "[encoded data removed]",
      "text/plain": [
       "<Figure size 432x288 with 1 Axes>"
      ]
     },
     "metadata": {
      "needs_background": "light"
     },
     "output_type": "display_data"
    }
   ],
   "source": [
    "plt.plot(amount_per_sample)"
   ]
  },
  {
   "cell_type": "code",
   "execution_count": 34,
   "metadata": {},
   "outputs": [
    {
     "data": {
      "image/png": "[encoded data removed]",
      "text/plain": [
       "<Figure size 432x288 with 1 Axes>"
      ]
     },
     "metadata": {
      "needs_background": "light"
     },
     "output_type": "display_data"
    }
   ],
   "source": [
    "plt.boxplot(amount_per_sample)\n",
    "plt.show()"
   ]
  },
  {
   "cell_type": "code",
   "execution_count": 35,
   "metadata": {},
   "outputs": [
    {
     "data": {
      "text/plain": [
       "<matplotlib.collections.PathCollection at 0x7fc9d35057f0>"
      ]
     },
     "execution_count": 35,
     "metadata": {},
     "output_type": "execute_result"
    },
    {
     "data": {
      "image/png": "[encoded data removed]",
      "text/plain": [
       "<Figure size 432x288 with 1 Axes>"
      ]
     },
     "metadata": {
      "needs_background": "light"
     },
     "output_type": "display_data"
    }
   ],
   "source": [
    "_alt_temp = -amount_per_sample.abs()\n",
    "ref_idx = _alt_temp.index\n",
    "y = (_alt_temp -_alt_temp.min()) / (_alt_temp.max() - _alt_temp.min())\n",
    "x = np.arange(y.shape[0], dtype=float)\n",
    "name_per_idx = list(zip(x,ref_idx))\n",
    "\n",
    "plt.scatter(x,y)\n"
   ]
  },
  {
   "cell_type": "code",
   "execution_count": null,
   "metadata": {},
   "outputs": [],
   "source": []
  }
 ],
 "metadata": {
  "colab": {
   "collapsed_sections": [],
   "name": "Data Exploration",
   "provenance": []
  },
  "kernelspec": {
   "display_name": "Python 3",
   "language": "python",
   "name": "python3"
  },
  "language_info": {
   "codemirror_mode": {
    "name": "ipython",
    "version": 3
   },
   "file_extension": ".py",
   "mimetype": "text/x-python",
   "name": "python",
   "nbconvert_exporter": "python",
   "pygments_lexer": "ipython3",
   "version": "3.7.3"
  }
 },
 "nbformat": 4,
 "nbformat_minor": 1
}
